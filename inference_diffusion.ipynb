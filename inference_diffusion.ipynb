{
 "cells": [
  {
   "cell_type": "code",
   "execution_count": null,
   "id": "40775cb3",
   "metadata": {},
   "outputs": [],
   "source": [
    "import warnings\n",
    "warnings.filterwarnings('ignore')"
   ]
  },
  {
   "cell_type": "code",
   "execution_count": null,
   "id": "d2d4a447",
   "metadata": {},
   "outputs": [],
   "source": [
    "from utilities import (\n",
    "    device,\n",
    "    load_trained_model,\n",
    "    setup_noise_schedule,\n",
    "    sample_ddpm,\n",
    "\n",
    "    visualize_samples,\n",
    "    visualize_diffusion_process\n",
    ")"
   ]
  },
  {
   "cell_type": "code",
   "execution_count": null,
   "id": "51f38ead",
   "metadata": {},
   "outputs": [],
   "source": [
    "# Load the trained model\n",
    "model = load_trained_model('weights/model_63.pth')\n",
    "# Setup noise schedule\n",
    "b_t, a_t, ab_t = setup_noise_schedule()\n",
    "# Generate samples using standard DDPM\n",
    "samples, intermediate = sample_ddpm(n_sample=32, save_rate=20)\n",
    "# Visualize final samples\n",
    "visualize_samples(samples, title=\"DDPM Generated Samples (32 samples)\")\n",
    "# Visualize diffusion process for first 8 samples\n",
    "visualize_diffusion_process(intermediate, n_samples=8, n_timesteps=10)"
   ]
  }
 ],
 "metadata": {
  "environment": {
   "kernel": "python3",
   "name": "pytorch-gpu.2-2.m127",
   "type": "gcloud",
   "uri": "us-docker.pkg.dev/deeplearning-platform-release/gcr.io/pytorch-gpu.2-2:m127"
  },
  "kernelspec": {
   "display_name": "Python 3 (Local)",
   "language": "python",
   "name": "python3"
  },
  "language_info": {
   "codemirror_mode": {
    "name": "ipython",
    "version": 3
   },
   "file_extension": ".py",
   "mimetype": "text/x-python",
   "name": "python",
   "nbconvert_exporter": "python",
   "pygments_lexer": "ipython3",
   "version": "3.10.16"
  }
 },
 "nbformat": 4,
 "nbformat_minor": 5
}
